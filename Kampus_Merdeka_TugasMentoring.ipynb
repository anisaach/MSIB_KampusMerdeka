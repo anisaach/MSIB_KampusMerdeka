{
  "nbformat": 4,
  "nbformat_minor": 0,
  "metadata": {
    "colab": {
      "provenance": []
    },
    "kernelspec": {
      "name": "python3",
      "display_name": "Python 3"
    },
    "language_info": {
      "name": "python"
    }
  },
  "cells": [
    {
      "cell_type": "code",
      "source": [
        "odd=[x for x in range(1,1000+1) if x %5!=0]\n",
        "squares=[x**2 for x in odd]\n",
        "total=sum(squares)\n",
        "ratarata=total/len(squares)\n",
        "print(total)\n",
        "print(ratarata)"
      ],
      "metadata": {
        "id": "Q4MNFOHXqdJJ",
        "colab": {
          "base_uri": "https://localhost:8080/"
        },
        "outputId": "1cb451be-5f7a-45af-ab2a-809217f95b4e"
      },
      "execution_count": null,
      "outputs": [
        {
          "output_type": "stream",
          "name": "stdout",
          "text": [
            "266666000\n",
            "333332.5\n"
          ]
        }
      ]
    },
    {
      "cell_type": "code",
      "source": [
        "a = int(input(\"masukan nilai a= \"))\n",
        "if a<100: #conditional form\n",
        "    print('small value')\n",
        "elif a<500:\n",
        "    print('medium value')\n",
        "else:\n",
        "    print('big value')"
      ],
      "metadata": {
        "colab": {
          "base_uri": "https://localhost:8080/"
        },
        "id": "oMiZmOEoncOi",
        "outputId": "7657c8ae-4d02-477a-dd81-b1581f0ca6d3"
      },
      "execution_count": null,
      "outputs": [
        {
          "output_type": "stream",
          "name": "stdout",
          "text": [
            "masukan nilai a= 670\n",
            "big value\n"
          ]
        }
      ]
    },
    {
      "cell_type": "code",
      "source": [
        "while True:\n",
        "  a = int(input(\"masukan a= \"))\n",
        "  if a<100:\n",
        "    print('small value')\n",
        "  else:\n",
        "    print('big value')\n",
        "    break"
      ],
      "metadata": {
        "colab": {
          "base_uri": "https://localhost:8080/"
        },
        "id": "fLY43qi9ofrJ",
        "outputId": "290a9a1d-d70f-4625-dfe9-2e1cb6207fa7"
      },
      "execution_count": null,
      "outputs": [
        {
          "output_type": "stream",
          "name": "stdout",
          "text": [
            "masukan a= 99\n",
            "small value\n",
            "masukan a= 250\n",
            "big value\n"
          ]
        }
      ]
    },
    {
      "cell_type": "code",
      "source": [
        "pas= input(\"password= \")\n",
        "panjang=len(pas)>=5\n",
        "c7=\"7\" in pas\n",
        "ca= \"A\" in pas\n",
        "char=\"@\" in pas\n",
        "if panjang!=True:\n",
        "    print(\"terlalu pendek\")\n",
        "elif c7!=True:\n",
        "    print(\"harus mengandung 7\")\n",
        "elif ca!=True:\n",
        "    print(\"harus mengandng A\")\n",
        "elif char!=True:\n",
        "    print(\"harus mengandng @\")\n",
        "else:\n",
        "    print(\"password valid\")"
      ],
      "metadata": {
        "colab": {
          "base_uri": "https://localhost:8080/"
        },
        "id": "cj24khymFFdK",
        "outputId": "81349332-572f-439b-aa93-6047b8a42569"
      },
      "execution_count": null,
      "outputs": [
        {
          "output_type": "stream",
          "name": "stdout",
          "text": [
            "password= mduuhA7@\n",
            "password valid\n"
          ]
        }
      ]
    },
    {
      "cell_type": "code",
      "source": [
        "while True:\n",
        "    pas= input(\"password= \")\n",
        "    panjang=len(pas)>=5\n",
        "    c8=\"8\" in pas\n",
        "    cx= \"X\" in pas\n",
        "    char=\"@\" in pas\n",
        "    if panjang!=True:\n",
        "        print(\"terlalu pendek\")\n",
        "    elif c8!=True:\n",
        "        print(\"harus mengandung 8\")\n",
        "    elif cx!=True:\n",
        "        print(\"harus mengandng X\")\n",
        "    elif char!=True:\n",
        "        print(\"harus mengandng @\")\n",
        "    else:\n",
        "        print(\"password valid\")\n",
        "        break"
      ],
      "metadata": {
        "colab": {
          "base_uri": "https://localhost:8080/"
        },
        "id": "JQmpJWY8F6gU",
        "outputId": "3bb37d83-e8f9-404c-b8e2-dfa491cb6bde"
      },
      "execution_count": null,
      "outputs": [
        {
          "output_type": "stream",
          "name": "stdout",
          "text": [
            "password= jnjnhbhbb b n\n",
            "harus mengandung 8\n",
            "password= mnhghnm8\n",
            "harus mengandng X\n",
            "password= *X8@nsjbdjnj\n",
            "password valid\n"
          ]
        }
      ]
    },
    {
      "cell_type": "code",
      "source": [
        "count=0\n",
        "contoh_list=['abc', 'xbx', 'aba', '1221']\n",
        "for i in range(len(contoh_list)):\n",
        "    if(contoh_list[i][0] == contoh_list[i][-1]): #pendefinisian kondisi jika huruf pertama pada string indeks i sama dengan huruf terakhir pada string indeks i tersebut\n",
        "        count += 1 #jika sama, maka akan dihitung\n",
        "print('jumlah string yg sama=',count)"
      ],
      "metadata": {
        "colab": {
          "base_uri": "https://localhost:8080/"
        },
        "id": "0K5naUOiaasD",
        "outputId": "e3fe15fa-cab6-42d4-8be1-fefdf4199cd7"
      },
      "execution_count": null,
      "outputs": [
        {
          "output_type": "stream",
          "name": "stdout",
          "text": [
            "jumlah string yg sama= 3\n"
          ]
        }
      ]
    },
    {
      "cell_type": "code",
      "source": [
        "while True:\n",
        "  kata=input(\"masukan kata= \")\n",
        "  if kata == kata[::-1]:\n",
        "       print(\"string merupakan palidrom\")\n",
        "       break\n",
        "  else:\n",
        "       print(\"string bukan palidrom\")"
      ],
      "metadata": {
        "colab": {
          "base_uri": "https://localhost:8080/"
        },
        "id": "KIAz0YraGEJe",
        "outputId": "bfa23ea0-1597-4ac3-e32b-23445e5cc67e"
      },
      "execution_count": null,
      "outputs": [
        {
          "output_type": "stream",
          "name": "stdout",
          "text": [
            "masukan kata= kayu\n",
            "string bukan palidrom\n",
            "masukan kata= i9i\n",
            "string merupakan palidrom\n"
          ]
        }
      ]
    },
    {
      "cell_type": "code",
      "source": [
        "while True:\n",
        "    kata=input(\"masukan kata= \")\n",
        "    if kata == kata[::-1]:\n",
        "        print(\"string merupakan palidrom\")\n",
        "        break\n",
        "    else:\n",
        "        print(\"string bukan palidrom\")"
      ],
      "metadata": {
        "colab": {
          "base_uri": "https://localhost:8080/"
        },
        "id": "JuMGqAA_zHXc",
        "outputId": "54fe2aa9-872a-4004-f1b0-41e1580548bc"
      },
      "execution_count": null,
      "outputs": [
        {
          "output_type": "stream",
          "name": "stdout",
          "text": [
            "masukan kata= yura\n",
            "string bukan palidrom\n",
            "masukan kata= katak\n",
            "string merupakan palidrom\n"
          ]
        }
      ]
    },
    {
      "cell_type": "code",
      "source": [
        "def hitung(s):\n",
        "    d={'upper':0,'lower':0}\n",
        "    for x in s:\n",
        "        if x.isupper():\n",
        "            d['upper']+=1\n",
        "        elif x.islower():\n",
        "            d['lower']+=1\n",
        "    print('string kalimat:', s)\n",
        "    print('jumlah huruf kapital:',d['upper'])\n",
        "    print('jumlah huruf kecil',d['lower'])\n",
        "hitung('Modul Python MSIB')"
      ],
      "metadata": {
        "id": "79-V6Hg-GzsE",
        "outputId": "33246fa0-8e7c-48f6-ac6d-9e7f87bca026",
        "colab": {
          "base_uri": "https://localhost:8080/"
        }
      },
      "execution_count": null,
      "outputs": [
        {
          "output_type": "stream",
          "name": "stdout",
          "text": [
            "string kalimat: Modul Python MSIB\n",
            "jumlah huruf kapital: 6\n",
            "jumlah huruf kecil 9\n"
          ]
        }
      ]
    },
    {
      "cell_type": "code",
      "source": [
        "#Kata ganjil\n",
        "list1=[\"campire\",\"finale\",\"call\",\"kokobop\",\"hot\",\"mama\", \"monster\", \"bird\", \"nice\"]\n",
        "for i in list1:\n",
        "    if len(i)%2==1:\n",
        "        print(i,end=\" \")"
      ],
      "metadata": {
        "colab": {
          "base_uri": "https://localhost:8080/"
        },
        "id": "CrkyyQgmGFJR",
        "outputId": "64f3889a-107c-42e8-9e2a-bf4127497a71"
      },
      "execution_count": null,
      "outputs": [
        {
          "output_type": "stream",
          "name": "stdout",
          "text": [
            "campire kokobop hot monster "
          ]
        }
      ]
    },
    {
      "cell_type": "code",
      "source": [
        "#kata genap\n",
        "list1=[\"campire\",\"dream\",\"call\",\"kokobop\",\"hot\",\"mama\", \"monster\", \"bird\", \"nice\"]\n",
        "for i in list1:\n",
        "    if len(i)%2==0:\n",
        "        print(i,end=\" \")"
      ],
      "metadata": {
        "colab": {
          "base_uri": "https://localhost:8080/"
        },
        "id": "EolCEUTjsQSH",
        "outputId": "98394b6b-4005-4303-d3ff-da0cd166335d"
      },
      "execution_count": null,
      "outputs": [
        {
          "output_type": "stream",
          "name": "stdout",
          "text": [
            "call mama bird nice "
          ]
        }
      ]
    }
  ]
}